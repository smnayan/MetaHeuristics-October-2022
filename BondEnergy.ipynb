{
 "cells": [
  {
   "cell_type": "markdown",
   "id": "bfd1f46d",
   "metadata": {},
   "source": [
    "### Fragmentation b"
   ]
  },
  {
   "cell_type": "code",
   "execution_count": 25,
   "id": "7a6658e3",
   "metadata": {},
   "outputs": [
    {
     "name": "stdout",
     "output_type": "stream",
     "text": [
      "Attribute affinity matrix\n",
      "[45, 0, 45, 0]\n",
      "[0, 80, 5, 75]\n",
      "[45, 5, 53, 3]\n",
      "[0, 75, 3, 78]\n",
      "Access Site Sums\n",
      "[45, 5, 75, 3]\n"
     ]
    }
   ],
   "source": [
    "n_queries = 4\n",
    "n_attributes = 4\n",
    "#attribute usage matrix\n",
    "aum = [[1,0,1,0],[0,1,1,0],[0,1,0,1],[0,0,1,1]]\n",
    "\n",
    "#number of sites\n",
    "n_sites = 3 \n",
    "\n",
    "#access matrix\n",
    "acc = [[15,5,25,3],[20,0,25,0],[10,0,25,0]]\n",
    "\n",
    "#prefix sum for each query\n",
    "pre = [0 for i in range(n_queries)]\n",
    "for i in range(n_queries):\n",
    "    for j in range(n_sites):\n",
    "        pre[i] = pre[i]+acc[j][i]\n",
    "\n",
    "#attribute affinity matrix\n",
    "aam = [[0 for i in range(n_attributes)] for j in range(n_attributes)]\n",
    "\n",
    "#calculation of the aam\n",
    "for i in range(n_attributes):\n",
    "    for j in range(n_attributes):\n",
    "#         if(i==j):\n",
    "#             aam[i][j]=0\n",
    "#             continue\n",
    "        for q in range(n_queries):\n",
    "            if aum[q][i]==1 and aum[q][j]==1:\n",
    "                aam[i][j] = aam[i][j]+pre[q]\n",
    "          \n",
    "print(\"Attribute affinity matrix\")\n",
    "for i in range(n_attributes):\n",
    "    print(aam[i])\n",
    "print(\"Access Site Sums\")\n",
    "print(pre)"
   ]
  },
  {
   "cell_type": "code",
   "execution_count": 26,
   "id": "e71ad6be",
   "metadata": {},
   "outputs": [],
   "source": [
    "n_queries = 4\n",
    "n_attributes = 4\n",
    "#attribute usage matrix\n",
    "aum = [[1,0,1,0],[0,1,1,0],[0,1,0,1],[0,0,1,1]]\n",
    "\n",
    "#number of sites\n",
    "n_sites = 3 \n",
    "\n",
    "#access matrix\n",
    "acc = [[15,5,25,3],[20,0,25,0],[10,0,25,0]]"
   ]
  },
  {
   "cell_type": "code",
   "execution_count": 27,
   "id": "606d64d8",
   "metadata": {},
   "outputs": [
    {
     "name": "stdout",
     "output_type": "stream",
     "text": [
      "[0, 0, 0, 0]\n",
      "15\n",
      "[15, 0, 0, 0]\n",
      "20\n",
      "[35, 0, 0, 0]\n",
      "10\n",
      "[45, 0, 0, 0]\n",
      "5\n",
      "[45, 5, 0, 0]\n",
      "0\n",
      "[45, 5, 0, 0]\n",
      "0\n",
      "[45, 5, 0, 0]\n",
      "25\n",
      "[45, 5, 25, 0]\n",
      "25\n",
      "[45, 5, 50, 0]\n",
      "25\n",
      "[45, 5, 75, 0]\n",
      "3\n",
      "[45, 5, 75, 3]\n",
      "0\n",
      "[45, 5, 75, 3]\n",
      "0\n",
      "[45, 5, 75, 3]\n"
     ]
    }
   ],
   "source": [
    "#prefix sum for each query\n",
    "pre = [0 for i in range(n_queries)]\n",
    "print(pre)\n",
    "for i in range(n_queries):\n",
    "    for j in range(n_sites):\n",
    "        pre[i] = pre[i]+acc[j][i]\n",
    "        print(acc[j][i])\n",
    "        print(pre)"
   ]
  },
  {
   "cell_type": "code",
   "execution_count": 28,
   "id": "c3b2e176",
   "metadata": {},
   "outputs": [
    {
     "name": "stdout",
     "output_type": "stream",
     "text": [
      "[45, 5, 75, 3]\n"
     ]
    }
   ],
   "source": [
    "print(pre)"
   ]
  },
  {
   "cell_type": "code",
   "execution_count": 29,
   "id": "7c471622",
   "metadata": {},
   "outputs": [],
   "source": [
    "def bond(Ax,Ay):\n",
    "    if Ax==-1 or Ay==-1:\n",
    "        return 0\n",
    "    ans = 0\n",
    "    for i in range(n_attributes):\n",
    "        ans = ans + (aam[i][Ax]*aam[i][Ay])\n",
    "    return ans\n",
    "\n",
    "def cont(Ai,Ak,Aj):\n",
    "    print(\"bond \",Ai, \"bond\", Ak, \" = \", bond(Ai,Ak))\n",
    "    print(\"bond \",Ak, \"bond\", Aj, \" = \", bond(Ak,Aj))\n",
    "    print(\"bond \",Ai, \"bond\", Aj, \" = \", bond(Ai,Aj))\n",
    "    return 2*bond(Ai,Ak) + 2*bond(Ak,Aj) - 2*bond(Ai,Aj)"
   ]
  },
  {
   "cell_type": "code",
   "execution_count": 30,
   "id": "28517a53",
   "metadata": {},
   "outputs": [],
   "source": [
    "#Bond energy algorithm\n",
    "def BEA():\n",
    "    ca = []\n",
    "    ca.append(0)\n",
    "    ca.append(1)\n",
    "    index  = 2\n",
    "    while index < n_attributes:\n",
    "        maxi = -1 \n",
    "        maxc = -100000\n",
    "        for i in range(1,index):\n",
    "                con = cont(ca[i-1],index,ca[i])\n",
    "                print(\"Index \", i+1, \" \", \"cont \", ca[i],index+1,ca[i]+1, con)\n",
    "                if con > maxc:\n",
    "                    maxi = i\n",
    "                    maxc = con\n",
    "        #boundary left\n",
    "        con = cont(-1,index,ca[0])\n",
    "        print(\"Index \", i+1, \" \", \"cont \", 1,index+1,ca[0]+1, con)\n",
    "        if con > maxc:\n",
    "            maxi = 0\n",
    "            maxc = con\n",
    "        #boundary right\n",
    "        con = cont(ca[index-1],index,-1)\n",
    "        print(\"Index \", i+1, \" \", \"cont \", ca[index-1]+1,index+1,index+2, con)\n",
    "        if con > maxc:\n",
    "            maxi = index\n",
    "        if maxi==index:\n",
    "            ca.append(index)    \n",
    "        else:\n",
    "            ca.append(0)\n",
    "            for j in range(index,maxi,-1):\n",
    "                ca[j]=ca[j-1]\n",
    "            ca[maxi] = index\n",
    "        print(ca)\n",
    "        index = index + 1\n",
    "    print(\"FINAL Clustered Affinity Matrix\")\n",
    "    print(ca)\n",
    "    return ca"
   ]
  },
  {
   "cell_type": "code",
   "execution_count": 31,
   "id": "eb3cd125",
   "metadata": {},
   "outputs": [
    {
     "name": "stdout",
     "output_type": "stream",
     "text": [
      "bond  0 bond 2  =  4410\n",
      "bond  2 bond 1  =  890\n",
      "bond  0 bond 1  =  225\n",
      "Index  2   cont  1 3 2 10150\n",
      "bond  -1 bond 2  =  0\n",
      "bond  2 bond 0  =  4410\n",
      "bond  -1 bond 0  =  0\n",
      "Index  2   cont  1 3 1 8820\n",
      "bond  1 bond 2  =  890\n",
      "bond  2 bond -1  =  0\n",
      "bond  1 bond -1  =  0\n",
      "Index  2   cont  2 3 4 1780\n",
      "[0, 2, 1]\n",
      "bond  0 bond 3  =  135\n",
      "bond  3 bond 2  =  768\n",
      "bond  0 bond 2  =  4410\n",
      "Index  2   cont  2 4 3 -7014\n",
      "bond  2 bond 3  =  768\n",
      "bond  3 bond 1  =  11865\n",
      "bond  2 bond 1  =  890\n",
      "Index  3   cont  1 4 2 23486\n",
      "bond  -1 bond 3  =  0\n",
      "bond  3 bond 0  =  135\n",
      "bond  -1 bond 0  =  0\n",
      "Index  3   cont  1 4 1 270\n",
      "bond  1 bond 3  =  11865\n",
      "bond  3 bond -1  =  0\n",
      "bond  1 bond -1  =  0\n",
      "Index  3   cont  2 4 5 23730\n",
      "[0, 2, 1, 3]\n",
      "FINAL Clustered Affinity Matrix\n",
      "[0, 2, 1, 3]\n",
      "[[45, 45, 0, 0], [45, 53, 5, 3], [0, 5, 80, 75], [0, 3, 75, 78]]\n"
     ]
    }
   ],
   "source": [
    "CA = BEA()\n",
    "ca = [[0 for i in range(n_attributes)] for j in range(n_attributes)]\n",
    "for i in range(n_attributes):\n",
    "    for j in range(n_attributes):\n",
    "        ca[i][j] = aam[CA[i]][CA[j]]\n",
    "\n",
    "print(ca)"
   ]
  },
  {
   "cell_type": "code",
   "execution_count": 32,
   "id": "17be9abb",
   "metadata": {},
   "outputs": [],
   "source": [
    "def shift_row(mat):\n",
    "    row_first=[]\n",
    "    for i in range(n_attributes):\n",
    "        row_first.append(mat[0][i])\n",
    "    for i in range(1,n_attributes):\n",
    "        for j in range(n_attributes):\n",
    "            mat[i-1][j]=mat[i][j]\n",
    "    for i in range(n_attributes):\n",
    "        mat[n_attributes-1][i]=row_first[i]\n",
    "   # print(row_first)\n",
    "    return mat\n",
    "   \n",
    "def shift_column(mat):\n",
    "    col_first=[]\n",
    "    for i in range(n_attributes):\n",
    "        col_first.append(mat[i][0])\n",
    "    for i in range(n_attributes):\n",
    "        for j in range(1,n_attributes):\n",
    "            mat[i][j-1]=mat[i][j]\n",
    "    for i in range(n_attributes):\n",
    "        mat[i][n_attributes-1]=col_first[i]\n",
    "    return mat"
   ]
  },
  {
   "cell_type": "markdown",
   "id": "2f04d9fa",
   "metadata": {},
   "source": [
    "### Partitioning"
   ]
  },
  {
   "cell_type": "code",
   "execution_count": 33,
   "id": "c0ae9d7e",
   "metadata": {},
   "outputs": [
    {
     "name": "stdout",
     "output_type": "stream",
     "text": [
      "[[0, 2], [1, 3], [1, 2], [2, 3]]\n"
     ]
    }
   ],
   "source": [
    "start=n_attributes-2\n",
    "aum = [[1,0,1,0],[0,1,0,1],[0,1,1,0],[0,0,1,1]]\n",
    "AQ=[]\n",
    "for i in range(n_attributes):\n",
    "    row=[]\n",
    "    for j in range(n_attributes):\n",
    "        if aum[i][j]==1:\n",
    "            row.append(j)\n",
    "    AQ.append(row)\n",
    "\n",
    "print(AQ)"
   ]
  },
  {
   "cell_type": "code",
   "execution_count": 34,
   "id": "d9559a3b",
   "metadata": {},
   "outputs": [
    {
     "name": "stdout",
     "output_type": "stream",
     "text": [
      "[0, 2]\n",
      "[]\n",
      "[1, 3]\n"
     ]
    }
   ],
   "source": [
    "TQ=[]\n",
    "BQ=[]\n",
    "OQ=[]\n",
    "\n",
    "for i in range(n_queries):\n",
    "    if AQ[i][1] <= start:\n",
    "        TQ.append(i)\n",
    "    elif AQ[i][0] > start:\n",
    "        BQ.append(i)\n",
    "    else:\n",
    "        OQ.append(i)\n",
    "\n",
    "    \n",
    "print(TQ)\n",
    "print(BQ)\n",
    "print(OQ)"
   ]
  },
  {
   "cell_type": "code",
   "execution_count": 35,
   "id": "55df7076",
   "metadata": {},
   "outputs": [],
   "source": [
    "CTQ=0\n",
    "CBQ=0\n",
    "COQ=0\n",
    "\n",
    "for i in range(len(TQ)):\n",
    "    CTQ=CTQ+pre[TQ[i]]\n",
    "for i in range(len(BQ)):\n",
    "    CBQ=CBQ+pre[BQ[i]]\n",
    "for i in range(len(OQ)):\n",
    "    COQ=COQ+pre[OQ[i]]\n",
    "best=CTQ*CBQ-COQ*COQ"
   ]
  },
  {
   "cell_type": "code",
   "execution_count": 36,
   "id": "63064f4b",
   "metadata": {},
   "outputs": [
    {
     "name": "stdout",
     "output_type": "stream",
     "text": [
      "First Half\n",
      "{1, 3}\n",
      "Second Half\n",
      "{1, 2, 4}\n",
      "Split is:\n",
      "2\n",
      "Shift is\n",
      "0\n"
     ]
    }
   ],
   "source": [
    "shift=0\n",
    "for i in range(4):\n",
    "    for j in range(n_attributes-3,0,-1):\n",
    "        TQ=[]\n",
    "        BQ=[]\n",
    "        OQ=[]\n",
    "\n",
    "        for k in range(n_queries):\n",
    "            if AQ[k][1] <= j:\n",
    "                TQ.append(i)\n",
    "            elif AQ[k][0] > j:\n",
    "                BQ.append(k)\n",
    "            else:\n",
    "                OQ.append(k)\n",
    "        CTQ=0\n",
    "        CBQ=0\n",
    "        COQ=0\n",
    "        \n",
    "        for k in range(len(TQ)):\n",
    "            CTQ=CTQ+pre[TQ[k]]\n",
    "        for k in range(len(BQ)):\n",
    "            CBQ=CBQ+pre[BQ[k]]\n",
    "        for k in range(len(OQ)):\n",
    "            COQ=COQ+pre[OQ[k]]\n",
    "        z=CTQ*CBQ-COQ*COQ\n",
    "        if z>best:\n",
    "            best=z\n",
    "            start=j\n",
    "            shift=i\n",
    "    shift_row(ca)\n",
    "    shift_column(ca)\n",
    "    shift_row(aum)\n",
    "    shift_column(aum)\n",
    "    AQ=[]\n",
    "    for i in range(n_attributes):\n",
    "        row=[]\n",
    "        for j in range(n_attributes):\n",
    "            if aum[i][j]==1:\n",
    "                row.append(j)\n",
    "        AQ.append(row)\n",
    "last=n_attributes-1\n",
    "for i in range(shift):\n",
    "    ele=CA[last]\n",
    "    for j in range(last,1,-1):\n",
    "        CA[j]=CA[j-1]\n",
    "    CA[0]=ele\n",
    "F1={1}\n",
    "F2={1}\n",
    "print(\"First Half\")\n",
    "for i in range(0,start):\n",
    "    F1.add(CA[i]+1)\n",
    "print(F1)    \n",
    "print(\"Second Half\")\n",
    "\n",
    "for i in range(start,n_attributes):\n",
    "    F2.add(CA[i]+1)\n",
    "print(F2)  \n",
    "print(\"Split is:\")\n",
    "print(start)\n",
    "print(\"Shift is\")\n",
    "print(shift)"
   ]
  },
  {
   "cell_type": "markdown",
   "id": "080d694a",
   "metadata": {},
   "source": [
    "### Genetic Algorithm"
   ]
  },
  {
   "cell_type": "markdown",
   "id": "609c30a8",
   "metadata": {},
   "source": [
    "### Importing Libraries"
   ]
  },
  {
   "cell_type": "code",
   "execution_count": 42,
   "id": "c70c2f71",
   "metadata": {},
   "outputs": [],
   "source": [
    "\n",
    "import numpy as np\n",
    "import matplotlib.pyplot as plt\n",
    "from copy import deepcopy\n",
    "from genetic_utils import *\n",
    "from sklearn.decomposition import PCA\n",
    "from sklearn.manifold import TSNE "
   ]
  },
  {
   "cell_type": "markdown",
   "id": "447f77c0",
   "metadata": {},
   "source": [
    "### Fragmentation Sample Generator\n"
   ]
  },
  {
   "cell_type": "code",
   "execution_count": 43,
   "id": "515a7f52",
   "metadata": {},
   "outputs": [],
   "source": [
    "class Item:\n",
    "    def __init__(self, value, weight) :\n",
    "        self.value = value\n",
    "        self.weight = weight\n",
    "\n",
    "# class Bag:\n",
    "#     def __init__(self, capacity) :\n",
    "#         self.capacity = capacity"
   ]
  },
  {
   "cell_type": "code",
   "execution_count": 44,
   "id": "f2bac0fd",
   "metadata": {},
   "outputs": [
    {
     "name": "stdout",
     "output_type": "stream",
     "text": [
      "We have 12 items with weight and values of :\n",
      "item 0: Weight=>33.77062994324069 Value=>17.78533854675055\n",
      "item 1: Weight=>33.890069551365016 Value=>25.738368528682702\n",
      "item 2: Weight=>15.375268291707993 Value=>18.70691090357917\n",
      "item 3: Weight=>2.2685190926977272 Value=>8.926038196334169\n",
      "item 4: Weight=>19.106604692853995 Value=>8.179688837403397\n",
      "item 5: Weight=>19.199086895002292 Value=>24.365061863264796\n",
      "item 6: Weight=>33.4431505414951 Value=>11.783543883024892\n",
      "item 7: Weight=>25.926874882047887 Value=>10.12188481251805\n",
      "item 8: Weight=>38.28620635812185 Value=>11.04724619521644\n",
      "item 9: Weight=>34.803490334337454 Value=>4.210523412379354\n",
      "item 10: Weight=>32.03643007918577 Value=>14.208241358211314\n",
      "item 11: Weight=>27.155181204758414 Value=>15.614324386536145\n",
      "We have a bag with capacity of 385.90367426844006\n"
     ]
    }
   ],
   "source": [
    "np.random.seed(0)\n",
    "items_number = np.random.randint(30)\n",
    "max_value = 30\n",
    "max_weight = 40\n",
    "# List Comprehensions, for more details see : https://www.pythonforbeginners.com/basics/list-comprehensions-in-python\n",
    "items = np.array([Item(np.random.rand()*max_value, np.random.rand()*max_weight) for _ in range(items_number)])\n",
    "bag = Bag(np.random.rand()*(max_weight*len(items)) + max_weight)\n",
    "print('We have {} items with weight and values of :'.format(len(items)))\n",
    "for i,item in enumerate(items) :\n",
    "    print('item {}: Weight=>{} Value=>{}'.format(i, item.weight, item.value))\n",
    "print('We have a bag with capacity of {}'.format(bag.capacity))"
   ]
  },
  {
   "cell_type": "markdown",
   "id": "95b47766",
   "metadata": {},
   "source": [
    "### Chromosome Design"
   ]
  },
  {
   "cell_type": "code",
   "execution_count": 45,
   "id": "1f3bd11a",
   "metadata": {},
   "outputs": [],
   "source": [
    "class Chromosome :\n",
    "    def __init__(self, length) :\n",
    "        self.genes = np.random.rand(length) > .5\n",
    "        self.fitness = float('-inf')\n",
    "        \n",
    "    def __len__(self) :\n",
    "        return len(self.genes)\n",
    "    \n",
    "    def reset(self) :\n",
    "        self.fitness = float('-inf')"
   ]
  },
  {
   "cell_type": "markdown",
   "id": "db1ce44b",
   "metadata": {},
   "source": [
    "### Initialization"
   ]
  },
  {
   "cell_type": "code",
   "execution_count": 46,
   "id": "0a643570",
   "metadata": {},
   "outputs": [],
   "source": [
    "population_init = lambda size, chrom_size : np.array([Chromosome(chrom_size) for _ in range(size)])"
   ]
  },
  {
   "cell_type": "markdown",
   "id": "50ddc561",
   "metadata": {},
   "source": [
    "### Fitness Calculation"
   ]
  },
  {
   "cell_type": "code",
   "execution_count": 47,
   "id": "94ddc667",
   "metadata": {},
   "outputs": [],
   "source": [
    "def fitness_eval(chrom, items, bag, epsilon=2) :\n",
    "    selected_items = items[chrom.genes]\n",
    "    capacity_full = 0\n",
    "    fitness = 0\n",
    "    for item in selected_items :\n",
    "        capacity_full += item.weight\n",
    "        if capacity_full > bag.capacity :\n",
    "            fitness = epsilon\n",
    "            break\n",
    "        fitness += item.value\n",
    "    return fitness"
   ]
  },
  {
   "cell_type": "markdown",
   "id": "3d95cbac",
   "metadata": {},
   "source": [
    "### Selection"
   ]
  },
  {
   "cell_type": "markdown",
   "id": "00c17b19",
   "metadata": {},
   "source": [
    "### Roulette Selection"
   ]
  },
  {
   "cell_type": "code",
   "execution_count": 48,
   "id": "792427e7",
   "metadata": {},
   "outputs": [],
   "source": [
    "def roulette_selection(pop) :\n",
    "    i = 0\n",
    "    fitnesses = np.array(list(map(lambda c: c.fitness, pop)))\n",
    "    sum_of_fitnesses = np.sum(fitnesses)\n",
    "    sel_prob = fitnesses/sum_of_fitnesses\n",
    "    pie(sel_prob) # Ploting pie chart of probablity of each individual\n",
    "    sum_prob = sel_prob[i]\n",
    "    pointer = np.random.rand()\n",
    "    while sum_prob < pointer :\n",
    "        i += 1\n",
    "        sum_prob += sel_prob[i]            \n",
    "    return pop[i]"
   ]
  },
  {
   "cell_type": "markdown",
   "id": "e69fb1ee",
   "metadata": {},
   "source": [
    "### Crossover\n",
    "### One Point Crossover"
   ]
  },
  {
   "cell_type": "code",
   "execution_count": 49,
   "id": "8796fe85",
   "metadata": {},
   "outputs": [],
   "source": [
    "def one_point_crossover(pop, selection_method, pc) :\n",
    "\n",
    "    p1 = selection_method(pop)\n",
    "    p2 = selection_method(pop)\n",
    "    \n",
    "    chrom_length = len(p1)\n",
    "    \n",
    "    point = np.random.randint(1,chrom_length -1)    \n",
    "\n",
    "    if np.random.random() < pc :\n",
    "        c1 = Chromosome(chrom_length)\n",
    "        c2 = Chromosome(chrom_length)\n",
    "        for i in range(chrom_length) :\n",
    "            if i < point :\n",
    "                c1.genes[i] = p1.genes[i]\n",
    "                c2.genes[i] = p2.genes[i]\n",
    "            else :\n",
    "                c1.genes[i] = p2.genes[i]\n",
    "                c2.genes[i] = p1.genes[i]\n",
    "    else :\n",
    "        c1 = deepcopy(p1)\n",
    "        c2 = deepcopy(p2)\n",
    "    \n",
    "    # Reset fitness of each parent\n",
    "    c1.reset()\n",
    "    c2.reset()\n",
    "    \n",
    "    return c1, c2    "
   ]
  },
  {
   "cell_type": "markdown",
   "id": "d8398556",
   "metadata": {},
   "source": [
    "### Mutation\n",
    "### Random Mutation"
   ]
  },
  {
   "cell_type": "code",
   "execution_count": 50,
   "id": "8152f92c",
   "metadata": {},
   "outputs": [],
   "source": [
    "def random_mutation(chrom, pm) :\n",
    "    for i in range(len(chrom)):\n",
    "        if np.random.random() < pm :\n",
    "            chrom.genes[i] = not chrom.genes[i]\n",
    "    return chrom"
   ]
  },
  {
   "cell_type": "markdown",
   "id": "60808704",
   "metadata": {},
   "source": [
    "### GA"
   ]
  },
  {
   "cell_type": "code",
   "execution_count": 54,
   "id": "60309ec6",
   "metadata": {},
   "outputs": [],
   "source": [
    "def partition_genetic_algorithm(pop_size=50, iter_num=10, pm=.4,\n",
    "                               pc=.3, max_value=30, max_weight=40,\n",
    "                               items_number=20, seed=0) :\n",
    "    \n",
    "    # Creating Arrays for saving the individuals of populations\n",
    "    pop_config = np.ndarray((iter_num, pop_size), dtype=object)\n",
    "    best_fitness = float('-inf')\n",
    "    \n",
    "    # Creating The Fake Problem\n",
    "    items, bag = get_fake_knapsack(seed, max_value, max_weight, items_number)\n",
    "    \n",
    "    # Initializing the population\n",
    "    pop = population_init(pop_size, len(items))\n",
    "    \n",
    "    # Calculating Fitness of each individual\n",
    "    for i in range(pop_size) :\n",
    "        pop[i].fitness = fitness_eval(pop[i], items, bag)\n",
    "        if best_fitness < pop[i].fitness :\n",
    "            best_fitness = pop[i].fitness\n",
    "    \n",
    "    pop_config[0] = pop\n",
    "    # Loop : Selection, Crossover, Mutation\n",
    "    for generation in range(1, iter_num) :\n",
    "        print('Best fitness in generation {} : {}'.format(generation-1, best_fitness))\n",
    "        new_pop = np.array([])\n",
    "        \n",
    "        # Crossover\n",
    "        for i in range(int(pop_size/2)) :\n",
    "            parent1, parent2 = one_point_crossover(pop, roulette_selection, pc)\n",
    "            new_pop = np.append(new_pop, [parent1, parent2])\n",
    "        \n",
    "        # Mutation\n",
    "        for i in range(pop_size) :\n",
    "            new_pop[i] = random_mutation(new_pop[i], pm/pop_size)\n",
    "            \n",
    "        # Fitness Calculation\n",
    "        for i in range(pop_size) :\n",
    "            new_pop[i].fitness = fitness_eval(pop[i], items, bag)\n",
    "            if best_fitness < pop[i].fitness :\n",
    "                best_fitness = pop[i].fitness\n",
    "        pop = new_pop\n",
    "        pop_config[generation] = pop\n",
    "    \n",
    "    print('Best fitness in generation {} : {}'.format(iter_num, best_fitness))\n",
    "    return pop_config, items, bag"
   ]
  },
  {
   "cell_type": "code",
   "execution_count": 56,
   "id": "31cd5f33",
   "metadata": {},
   "outputs": [],
   "source": [
    "pop_size = 100\n",
    "iter_num = 200\n",
    "pm = 1\n",
    "pc = 1\n",
    "items_number=20\n",
    "generations, items, bag = partition_genetic_algorithm(pop_size, iter_num, pm, pc, items_number=items_number)"
   ]
  },
  {
   "cell_type": "code",
   "execution_count": 57,
   "id": "69d1b714",
   "metadata": {},
   "outputs": [],
   "source": [
    "from random import choices, randint, randrange, random\n",
    "from typing import List, Optional, Callable, Tuple\n",
    "\n",
    "Genome = List[int]\n",
    "Population = List[Genome]\n",
    "PopulateFunc = Callable[[], Population]\n",
    "FitnessFunc = Callable[[Genome], int]\n",
    "SelectionFunc = Callable[[Population, FitnessFunc], Tuple[Genome, Genome]]\n",
    "CrossoverFunc = Callable[[Genome, Genome], Tuple[Genome, Genome]]\n",
    "MutationFunc = Callable[[Genome], Genome]\n",
    "PrinterFunc = Callable[[Population, int, FitnessFunc], None]\n",
    "\n",
    "\n",
    "def generate_genome(length: int) -> Genome:\n",
    "    return choices([0, 1], k=length)\n",
    "\n",
    "\n",
    "def generate_population(size: int, genome_length: int) -> Population:\n",
    "    return [generate_genome(genome_length) for _ in range(size)]\n",
    "\n",
    "\n",
    "def single_point_crossover(a: Genome, b: Genome) -> Tuple[Genome, Genome]:\n",
    "    if len(a) != len(b):\n",
    "        raise ValueError(\"Genomes a and b must be of same length\")\n",
    "\n",
    "    length = len(a)\n",
    "    if length < 2:\n",
    "        return a, b\n",
    "\n",
    "    p = randint(1, length - 1)\n",
    "    return a[0:p] + b[p:], b[0:p] + a[p:]\n",
    "\n",
    "\n",
    "def mutation(genome: Genome, num: int = 1, probability: float = 0.5) -> Genome:\n",
    "    for _ in range(num):\n",
    "        index = randrange(len(genome))\n",
    "        genome[index] = genome[index] if random() > probability else abs(genome[index] - 1)\n",
    "    return genome\n",
    "\n",
    "\n",
    "def population_fitness(population: Population, fitness_func: FitnessFunc) -> int:\n",
    "    return sum([fitness_func(genome) for genome in population])\n",
    "\n",
    "\n",
    "def selection_pair(population: Population, fitness_func: FitnessFunc) -> Population:\n",
    "    return choices(\n",
    "        population=population,\n",
    "        weights=[fitness_func(gene) for gene in population],\n",
    "        k=2\n",
    "    )\n",
    "\n",
    "\n",
    "def sort_population(population: Population, fitness_func: FitnessFunc) -> Population:\n",
    "    return sorted(population, key=fitness_func, reverse=True)\n",
    "\n",
    "\n",
    "def genome_to_string(genome: Genome) -> str:\n",
    "    return \"\".join(map(str, genome))\n",
    "\n",
    "\n",
    "def print_stats(population: Population, generation_id: int, fitness_func: FitnessFunc):\n",
    "    print(\"GENERATION %02d\" % generation_id)\n",
    "    print(\"=============\")\n",
    "    print(\"Population: [%s]\" % \", \".join([genome_to_string(gene) for gene in population]))\n",
    "    print(\"Avg. Fitness: %f\" % (population_fitness(population, fitness_func) / len(population)))\n",
    "    sorted_population = sort_population(population, fitness_func)\n",
    "    print(\n",
    "        \"Best: %s (%f)\" % (genome_to_string(sorted_population[0]), fitness_func(sorted_population[0])))\n",
    "    print(\"Worst: %s (%f)\" % (genome_to_string(sorted_population[-1]),\n",
    "                              fitness_func(sorted_population[-1])))\n",
    "    print(\"\")\n",
    "\n",
    "    return sorted_population[0]\n",
    "\n",
    "\n",
    "def run_evolution(\n",
    "        populate_func: PopulateFunc,\n",
    "        fitness_func: FitnessFunc,\n",
    "        fitness_limit: int,\n",
    "        selection_func: SelectionFunc = selection_pair,\n",
    "        crossover_func: CrossoverFunc = single_point_crossover,\n",
    "        mutation_func: MutationFunc = mutation,\n",
    "        generation_limit: int = 100,\n",
    "        printer: Optional[PrinterFunc] = None) \\\n",
    "        -> Tuple[Population, int]:\n",
    "    population = populate_func()\n",
    "\n",
    "    for i in range(generation_limit):\n",
    "        population = sorted(population, key=lambda genome: fitness_func(genome), reverse=True)\n",
    "\n",
    "        if printer is not None:\n",
    "            printer(population, i, fitness_func)\n",
    "\n",
    "        if fitness_func(population[0]) >= fitness_limit:\n",
    "            break\n",
    "\n",
    "        next_generation = population[0:2]\n",
    "\n",
    "        for j in range(int(len(population) / 2) - 1):\n",
    "            parents = selection_func(population, fitness_func)\n",
    "            offspring_a, offspring_b = crossover_func(parents[0], parents[1])\n",
    "            offspring_a = mutation_func(offspring_a)\n",
    "            offspring_b = mutation_func(offspring_b)\n",
    "            next_generation += [offspring_a, offspring_b]\n",
    "\n",
    "        population = next_generation\n",
    "\n",
    "    return population, i"
   ]
  },
  {
   "cell_type": "code",
   "execution_count": null,
   "id": "fe3e1d47",
   "metadata": {},
   "outputs": [],
   "source": []
  }
 ],
 "metadata": {
  "kernelspec": {
   "display_name": "Python 3 (ipykernel)",
   "language": "python",
   "name": "python3"
  },
  "language_info": {
   "codemirror_mode": {
    "name": "ipython",
    "version": 3
   },
   "file_extension": ".py",
   "mimetype": "text/x-python",
   "name": "python",
   "nbconvert_exporter": "python",
   "pygments_lexer": "ipython3",
   "version": "3.10.5"
  }
 },
 "nbformat": 4,
 "nbformat_minor": 5
}
