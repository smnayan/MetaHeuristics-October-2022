{
 "cells": [
  {
   "cell_type": "code",
   "execution_count": 1,
   "id": "e0fbc563",
   "metadata": {},
   "outputs": [],
   "source": [
    "import pandas as pd\n",
    "import numpy as np\n",
    "import psycopg2\n",
    "import psycopg2.extras"
   ]
  },
  {
   "cell_type": "code",
   "execution_count": 1,
   "id": "7fcccfdc",
   "metadata": {},
   "outputs": [
    {
     "name": "stdout",
     "output_type": "stream",
     "text": [
      "Requirement already satisfied: scikit-learn in c:\\users\\bg\\appdata\\local\\programs\\python\\python310\\lib\\site-packages (1.2.2)\n",
      "Requirement already satisfied: joblib>=1.1.1 in c:\\users\\bg\\appdata\\local\\programs\\python\\python310\\lib\\site-packages (from scikit-learn) (1.2.0)\n",
      "Requirement already satisfied: numpy>=1.17.3 in c:\\users\\bg\\appdata\\local\\programs\\python\\python310\\lib\\site-packages (from scikit-learn) (1.23.0)\n",
      "Requirement already satisfied: threadpoolctl>=2.0.0 in c:\\users\\bg\\appdata\\local\\programs\\python\\python310\\lib\\site-packages (from scikit-learn) (3.1.0)\n",
      "Requirement already satisfied: scipy>=1.3.2 in c:\\users\\bg\\appdata\\local\\programs\\python\\python310\\lib\\site-packages (from scikit-learn) (1.10.1)\n",
      "\n",
      "[notice] A new release of pip available: 22.1.2 -> 23.0.1\n",
      "[notice] To update, run: C:\\Users\\bg\\AppData\\Local\\Programs\\Python\\Python310\\python.exe -m pip install --upgrade pip\n",
      "Note: you may need to restart the kernel to use updated packages.\n"
     ]
    }
   ],
   "source": [
    "pip install scikit-learn"
   ]
  },
  {
   "cell_type": "code",
   "execution_count": 2,
   "id": "edf80b2b",
   "metadata": {},
   "outputs": [],
   "source": [
    "class PostgresConnection(object):\n",
    "    def __init__(self):\n",
    "        self.connection = psycopg2.connect(database=\"ncdw\",\n",
    "                                           user = \"postgres\",\n",
    "                                           password = \"sultanmahmud22\",\n",
    "                                           host = \"127.0.0.1\",\n",
    "                                           port = \"5432\")\n",
    "\n",
    "    def getConnection(self):\n",
    "        print(\"successfully connected to database\")\n",
    "        return self.connection"
   ]
  },
  {
   "cell_type": "code",
   "execution_count": 12,
   "id": "7c008c8e",
   "metadata": {},
   "outputs": [
    {
     "name": "stdout",
     "output_type": "stream",
     "text": [
      "successfully connected to database\n"
     ]
    },
    {
     "data": {
      "text/html": [
       "<div>\n",
       "<style scoped>\n",
       "    .dataframe tbody tr th:only-of-type {\n",
       "        vertical-align: middle;\n",
       "    }\n",
       "\n",
       "    .dataframe tbody tr th {\n",
       "        vertical-align: top;\n",
       "    }\n",
       "\n",
       "    .dataframe thead th {\n",
       "        text-align: right;\n",
       "    }\n",
       "</style>\n",
       "<table border=\"1\" class=\"dataframe\">\n",
       "  <thead>\n",
       "    <tr style=\"text-align: right;\">\n",
       "      <th></th>\n",
       "      <th>PIK</th>\n",
       "      <th>year</th>\n",
       "      <th>month</th>\n",
       "      <th>day</th>\n",
       "      <th>unit</th>\n",
       "      <th>lab_name</th>\n",
       "      <th>test_result</th>\n",
       "      <th>test_name</th>\n",
       "    </tr>\n",
       "  </thead>\n",
       "  <tbody>\n",
       "    <tr>\n",
       "      <th>0</th>\n",
       "      <td>F1926jvorfrrglahvcrnouosvspqsp</td>\n",
       "      <td>2019</td>\n",
       "      <td>7</td>\n",
       "      <td>8</td>\n",
       "      <td>/LPF</td>\n",
       "      <td>Clinical Pathology</td>\n",
       "      <td>Nil</td>\n",
       "      <td>Complete Urine Analysis (Urine R/E)</td>\n",
       "    </tr>\n",
       "    <tr>\n",
       "      <th>1</th>\n",
       "      <td>F1926jvorfrrglahvcrnouosvspqsp</td>\n",
       "      <td>2019</td>\n",
       "      <td>7</td>\n",
       "      <td>8</td>\n",
       "      <td>?g/dL</td>\n",
       "      <td>Biochemistry</td>\n",
       "      <td>282</td>\n",
       "      <td>Total Iron Binding Capacity (TIBC) Blood</td>\n",
       "    </tr>\n",
       "    <tr>\n",
       "      <th>2</th>\n",
       "      <td>F1926jvorfrrglahvcrnouosvspqsp</td>\n",
       "      <td>2019</td>\n",
       "      <td>7</td>\n",
       "      <td>8</td>\n",
       "      <td>?g/dL</td>\n",
       "      <td>Biochemistry</td>\n",
       "      <td>44.4</td>\n",
       "      <td>Iron Serum</td>\n",
       "    </tr>\n",
       "    <tr>\n",
       "      <th>3</th>\n",
       "      <td>F1926jvorfrrglahvcrnouosvspqsp</td>\n",
       "      <td>2019</td>\n",
       "      <td>7</td>\n",
       "      <td>8</td>\n",
       "      <td>gm/L</td>\n",
       "      <td>Biochemistry</td>\n",
       "      <td>35</td>\n",
       "      <td>Albumin Serum</td>\n",
       "    </tr>\n",
       "    <tr>\n",
       "      <th>4</th>\n",
       "      <td>F1926jvorfrrglahvcrnouosvspqsp</td>\n",
       "      <td>2019</td>\n",
       "      <td>7</td>\n",
       "      <td>8</td>\n",
       "      <td>IU/mL</td>\n",
       "      <td>Immunology</td>\n",
       "      <td>1.53</td>\n",
       "      <td>TSH</td>\n",
       "    </tr>\n",
       "    <tr>\n",
       "      <th>...</th>\n",
       "      <td>...</td>\n",
       "      <td>...</td>\n",
       "      <td>...</td>\n",
       "      <td>...</td>\n",
       "      <td>...</td>\n",
       "      <td>...</td>\n",
       "      <td>...</td>\n",
       "      <td>...</td>\n",
       "    </tr>\n",
       "    <tr>\n",
       "      <th>471333</th>\n",
       "      <td>M2018xwrrefhpplrnounruupuws</td>\n",
       "      <td>2019</td>\n",
       "      <td>9</td>\n",
       "      <td>11</td>\n",
       "      <td>Null</td>\n",
       "      <td>Immunology</td>\n",
       "      <td>Negative</td>\n",
       "      <td>Dengue Ag NS1 (ICT)</td>\n",
       "    </tr>\n",
       "    <tr>\n",
       "      <th>471334</th>\n",
       "      <td>M2018xwrrefhpplrnounruupuws</td>\n",
       "      <td>2019</td>\n",
       "      <td>9</td>\n",
       "      <td>11</td>\n",
       "      <td>pg</td>\n",
       "      <td>Haematology</td>\n",
       "      <td>26.4</td>\n",
       "      <td>CBC</td>\n",
       "    </tr>\n",
       "    <tr>\n",
       "      <th>471335</th>\n",
       "      <td>M2018xwrrefhpplrnounruupuws</td>\n",
       "      <td>2019</td>\n",
       "      <td>9</td>\n",
       "      <td>11</td>\n",
       "      <td>X 10^12/L</td>\n",
       "      <td>Haematology</td>\n",
       "      <td>4.21</td>\n",
       "      <td>CBC</td>\n",
       "    </tr>\n",
       "    <tr>\n",
       "      <th>471336</th>\n",
       "      <td>M2018xwrrefhpplrnounruupuws</td>\n",
       "      <td>2019</td>\n",
       "      <td>9</td>\n",
       "      <td>11</td>\n",
       "      <td>X 10^9/L</td>\n",
       "      <td>Haematology</td>\n",
       "      <td>12.5</td>\n",
       "      <td>CBC</td>\n",
       "    </tr>\n",
       "    <tr>\n",
       "      <th>471337</th>\n",
       "      <td>M2018xwrrefhpplrnounruupuws</td>\n",
       "      <td>2019</td>\n",
       "      <td>9</td>\n",
       "      <td>11</td>\n",
       "      <td>X 10^9/L</td>\n",
       "      <td>Haematology</td>\n",
       "      <td>230</td>\n",
       "      <td>CBC</td>\n",
       "    </tr>\n",
       "  </tbody>\n",
       "</table>\n",
       "<p>471338 rows × 8 columns</p>\n",
       "</div>"
      ],
      "text/plain": [
       "                                   PIK  year  month  day       unit  \\\n",
       "0       F1926jvorfrrglahvcrnouosvspqsp  2019      7    8       /LPF   \n",
       "1       F1926jvorfrrglahvcrnouosvspqsp  2019      7    8      ?g/dL   \n",
       "2       F1926jvorfrrglahvcrnouosvspqsp  2019      7    8      ?g/dL   \n",
       "3       F1926jvorfrrglahvcrnouosvspqsp  2019      7    8       gm/L   \n",
       "4       F1926jvorfrrglahvcrnouosvspqsp  2019      7    8      IU/mL   \n",
       "...                                ...   ...    ...  ...        ...   \n",
       "471333     M2018xwrrefhpplrnounruupuws  2019      9   11       Null   \n",
       "471334     M2018xwrrefhpplrnounruupuws  2019      9   11         pg   \n",
       "471335     M2018xwrrefhpplrnounruupuws  2019      9   11  X 10^12/L   \n",
       "471336     M2018xwrrefhpplrnounruupuws  2019      9   11   X 10^9/L   \n",
       "471337     M2018xwrrefhpplrnounruupuws  2019      9   11   X 10^9/L   \n",
       "\n",
       "                  lab_name test_result  \\\n",
       "0       Clinical Pathology         Nil   \n",
       "1             Biochemistry         282   \n",
       "2             Biochemistry        44.4   \n",
       "3             Biochemistry          35   \n",
       "4               Immunology        1.53   \n",
       "...                    ...         ...   \n",
       "471333          Immunology    Negative   \n",
       "471334         Haematology        26.4   \n",
       "471335         Haematology        4.21   \n",
       "471336         Haematology        12.5   \n",
       "471337         Haematology         230   \n",
       "\n",
       "                                       test_name  \n",
       "0            Complete Urine Analysis (Urine R/E)  \n",
       "1       Total Iron Binding Capacity (TIBC) Blood  \n",
       "2                                     Iron Serum  \n",
       "3                                  Albumin Serum  \n",
       "4                                            TSH  \n",
       "...                                          ...  \n",
       "471333                       Dengue Ag NS1 (ICT)  \n",
       "471334                                       CBC  \n",
       "471335                                       CBC  \n",
       "471336                                       CBC  \n",
       "471337                                       CBC  \n",
       "\n",
       "[471338 rows x 8 columns]"
      ]
     },
     "execution_count": 12,
     "metadata": {},
     "output_type": "execute_result"
    }
   ],
   "source": [
    "con = PostgresConnection().getConnection()\n",
    "cur = con.cursor()\n",
    "select_stmt = '''\n",
    "SELECT t.pik\n",
    "     , time.year\n",
    "     , time.month\n",
    "     , time.day\n",
    "     , attr.unit\n",
    "     , lab.lab_name\n",
    "     , t.test_result\n",
    "     , i.test_name\n",
    "FROM centraldw.fact_testresult t\n",
    "JOIN centraldw.dim_testitem i on i.test_key = t.test_key\n",
    "JOIN centraldw.dim_time time on time.time_key = t.time_key\n",
    "JOIN centraldw.dim_lab lab on lab.lab_key = t.lab_key\n",
    "JOIN centraldw.dim_attribute attr on attr.attr_key = t.attr_key\n",
    "JOIN centraldw.dim_refresult ref on ref.refresult_key = t.refresult_key\n",
    "\n",
    "GROUP BY t.pik , time.year, time.month,time.day, attr.unit,lab.lab_name, t.test_result,i.test_name\n",
    "\n",
    "'''\n",
    "cur.execute(select_stmt)\n",
    "records = cur.fetchall()\n",
    "records\n",
    "df = pd.DataFrame(list(records), columns = ['PIK',  'year', 'month','day','unit', 'lab_name', 'test_result', 'test_name'])\n",
    "df"
   ]
  },
  {
   "cell_type": "code",
   "execution_count": 4,
   "id": "18571672",
   "metadata": {},
   "outputs": [
    {
     "name": "stderr",
     "output_type": "stream",
     "text": [
      "D:\\myenv\\lib\\site-packages\\scipy\\stats\\_stats_py.py:4868: RuntimeWarning: overflow encountered in longlong_scalars\n",
      "  (2 * xtie * ytie) / m + x0 * y0 / (9 * m * (size - 2)))\n"
     ]
    },
    {
     "data": {
      "text/html": [
       "<div>\n",
       "<style scoped>\n",
       "    .dataframe tbody tr th:only-of-type {\n",
       "        vertical-align: middle;\n",
       "    }\n",
       "\n",
       "    .dataframe tbody tr th {\n",
       "        vertical-align: top;\n",
       "    }\n",
       "\n",
       "    .dataframe thead th {\n",
       "        text-align: right;\n",
       "    }\n",
       "</style>\n",
       "<table border=\"1\" class=\"dataframe\">\n",
       "  <thead>\n",
       "    <tr style=\"text-align: right;\">\n",
       "      <th></th>\n",
       "      <th>year</th>\n",
       "      <th>month</th>\n",
       "      <th>day</th>\n",
       "    </tr>\n",
       "  </thead>\n",
       "  <tbody>\n",
       "    <tr>\n",
       "      <th>year</th>\n",
       "      <td>1.000000</td>\n",
       "      <td>-0.500531</td>\n",
       "      <td>-0.005173</td>\n",
       "    </tr>\n",
       "    <tr>\n",
       "      <th>month</th>\n",
       "      <td>-0.500531</td>\n",
       "      <td>1.000000</td>\n",
       "      <td>-0.000091</td>\n",
       "    </tr>\n",
       "    <tr>\n",
       "      <th>day</th>\n",
       "      <td>-0.005173</td>\n",
       "      <td>-0.000091</td>\n",
       "      <td>1.000000</td>\n",
       "    </tr>\n",
       "  </tbody>\n",
       "</table>\n",
       "</div>"
      ],
      "text/plain": [
       "           year     month       day\n",
       "year   1.000000 -0.500531 -0.005173\n",
       "month -0.500531  1.000000 -0.000091\n",
       "day   -0.005173 -0.000091  1.000000"
      ]
     },
     "execution_count": 4,
     "metadata": {},
     "output_type": "execute_result"
    }
   ],
   "source": [
    "df.corr(method='kendall')"
   ]
  },
  {
   "cell_type": "code",
   "execution_count": 5,
   "id": "20f542f9",
   "metadata": {},
   "outputs": [
    {
     "data": {
      "text/html": [
       "<div>\n",
       "<style scoped>\n",
       "    .dataframe tbody tr th:only-of-type {\n",
       "        vertical-align: middle;\n",
       "    }\n",
       "\n",
       "    .dataframe tbody tr th {\n",
       "        vertical-align: top;\n",
       "    }\n",
       "\n",
       "    .dataframe thead th {\n",
       "        text-align: right;\n",
       "    }\n",
       "</style>\n",
       "<table border=\"1\" class=\"dataframe\">\n",
       "  <thead>\n",
       "    <tr style=\"text-align: right;\">\n",
       "      <th></th>\n",
       "      <th>year</th>\n",
       "      <th>month</th>\n",
       "      <th>day</th>\n",
       "    </tr>\n",
       "  </thead>\n",
       "  <tbody>\n",
       "    <tr>\n",
       "      <th>year</th>\n",
       "      <td>1.000000</td>\n",
       "      <td>-0.591748</td>\n",
       "      <td>-0.003043</td>\n",
       "    </tr>\n",
       "    <tr>\n",
       "      <th>month</th>\n",
       "      <td>-0.591748</td>\n",
       "      <td>1.000000</td>\n",
       "      <td>0.000045</td>\n",
       "    </tr>\n",
       "    <tr>\n",
       "      <th>day</th>\n",
       "      <td>-0.003043</td>\n",
       "      <td>0.000045</td>\n",
       "      <td>1.000000</td>\n",
       "    </tr>\n",
       "  </tbody>\n",
       "</table>\n",
       "</div>"
      ],
      "text/plain": [
       "           year     month       day\n",
       "year   1.000000 -0.591748 -0.003043\n",
       "month -0.591748  1.000000  0.000045\n",
       "day   -0.003043  0.000045  1.000000"
      ]
     },
     "execution_count": 5,
     "metadata": {},
     "output_type": "execute_result"
    }
   ],
   "source": [
    "df.corr(method ='pearson')"
   ]
  },
  {
   "cell_type": "code",
   "execution_count": 6,
   "id": "f51622ff",
   "metadata": {},
   "outputs": [
    {
     "data": {
      "text/html": [
       "<div>\n",
       "<style scoped>\n",
       "    .dataframe tbody tr th:only-of-type {\n",
       "        vertical-align: middle;\n",
       "    }\n",
       "\n",
       "    .dataframe tbody tr th {\n",
       "        vertical-align: top;\n",
       "    }\n",
       "\n",
       "    .dataframe thead th {\n",
       "        text-align: right;\n",
       "    }\n",
       "</style>\n",
       "<table border=\"1\" class=\"dataframe\">\n",
       "  <thead>\n",
       "    <tr style=\"text-align: right;\">\n",
       "      <th></th>\n",
       "      <th>year</th>\n",
       "      <th>month</th>\n",
       "      <th>day</th>\n",
       "      <th>test_result</th>\n",
       "      <th>test_name</th>\n",
       "    </tr>\n",
       "  </thead>\n",
       "  <tbody>\n",
       "    <tr>\n",
       "      <th>year</th>\n",
       "      <td>1.000000</td>\n",
       "      <td>-0.591748</td>\n",
       "      <td>-0.003043</td>\n",
       "      <td>-0.003464</td>\n",
       "      <td>-0.040992</td>\n",
       "    </tr>\n",
       "    <tr>\n",
       "      <th>month</th>\n",
       "      <td>-0.591748</td>\n",
       "      <td>1.000000</td>\n",
       "      <td>0.000045</td>\n",
       "      <td>0.001487</td>\n",
       "      <td>-0.027420</td>\n",
       "    </tr>\n",
       "    <tr>\n",
       "      <th>day</th>\n",
       "      <td>-0.003043</td>\n",
       "      <td>0.000045</td>\n",
       "      <td>1.000000</td>\n",
       "      <td>0.001359</td>\n",
       "      <td>-0.008023</td>\n",
       "    </tr>\n",
       "    <tr>\n",
       "      <th>test_result</th>\n",
       "      <td>-0.003464</td>\n",
       "      <td>0.001487</td>\n",
       "      <td>0.001359</td>\n",
       "      <td>1.000000</td>\n",
       "      <td>0.009668</td>\n",
       "    </tr>\n",
       "    <tr>\n",
       "      <th>test_name</th>\n",
       "      <td>-0.040992</td>\n",
       "      <td>-0.027420</td>\n",
       "      <td>-0.008023</td>\n",
       "      <td>0.009668</td>\n",
       "      <td>1.000000</td>\n",
       "    </tr>\n",
       "  </tbody>\n",
       "</table>\n",
       "</div>"
      ],
      "text/plain": [
       "                 year     month       day  test_result  test_name\n",
       "year         1.000000 -0.591748 -0.003043    -0.003464  -0.040992\n",
       "month       -0.591748  1.000000  0.000045     0.001487  -0.027420\n",
       "day         -0.003043  0.000045  1.000000     0.001359  -0.008023\n",
       "test_result -0.003464  0.001487  0.001359     1.000000   0.009668\n",
       "test_name   -0.040992 -0.027420 -0.008023     0.009668   1.000000"
      ]
     },
     "execution_count": 6,
     "metadata": {},
     "output_type": "execute_result"
    }
   ],
   "source": [
    "df['test_result']=df['test_result'].astype('category').cat.codes\n",
    "df['test_name']=df['test_name'].astype('category').cat.codes\n",
    "df.corr()\n"
   ]
  },
  {
   "cell_type": "code",
   "execution_count": 7,
   "id": "69a04634",
   "metadata": {},
   "outputs": [
    {
     "name": "stderr",
     "output_type": "stream",
     "text": [
      "D:\\myenv\\lib\\site-packages\\scipy\\stats\\_stats_py.py:4868: RuntimeWarning: overflow encountered in longlong_scalars\n",
      "  (2 * xtie * ytie) / m + x0 * y0 / (9 * m * (size - 2)))\n"
     ]
    },
    {
     "data": {
      "text/html": [
       "<div>\n",
       "<style scoped>\n",
       "    .dataframe tbody tr th:only-of-type {\n",
       "        vertical-align: middle;\n",
       "    }\n",
       "\n",
       "    .dataframe tbody tr th {\n",
       "        vertical-align: top;\n",
       "    }\n",
       "\n",
       "    .dataframe thead th {\n",
       "        text-align: right;\n",
       "    }\n",
       "</style>\n",
       "<table border=\"1\" class=\"dataframe\">\n",
       "  <thead>\n",
       "    <tr style=\"text-align: right;\">\n",
       "      <th></th>\n",
       "      <th>year</th>\n",
       "      <th>month</th>\n",
       "      <th>day</th>\n",
       "      <th>test_result</th>\n",
       "      <th>test_name</th>\n",
       "    </tr>\n",
       "  </thead>\n",
       "  <tbody>\n",
       "    <tr>\n",
       "      <th>year</th>\n",
       "      <td>1.000000</td>\n",
       "      <td>-0.500531</td>\n",
       "      <td>-0.005173</td>\n",
       "      <td>-0.003762</td>\n",
       "      <td>-0.001648</td>\n",
       "    </tr>\n",
       "    <tr>\n",
       "      <th>month</th>\n",
       "      <td>-0.500531</td>\n",
       "      <td>1.000000</td>\n",
       "      <td>-0.000091</td>\n",
       "      <td>0.001730</td>\n",
       "      <td>-0.021112</td>\n",
       "    </tr>\n",
       "    <tr>\n",
       "      <th>day</th>\n",
       "      <td>-0.005173</td>\n",
       "      <td>-0.000091</td>\n",
       "      <td>1.000000</td>\n",
       "      <td>0.000637</td>\n",
       "      <td>0.001610</td>\n",
       "    </tr>\n",
       "    <tr>\n",
       "      <th>test_result</th>\n",
       "      <td>-0.003762</td>\n",
       "      <td>0.001730</td>\n",
       "      <td>0.000637</td>\n",
       "      <td>1.000000</td>\n",
       "      <td>-0.001145</td>\n",
       "    </tr>\n",
       "    <tr>\n",
       "      <th>test_name</th>\n",
       "      <td>-0.001648</td>\n",
       "      <td>-0.021112</td>\n",
       "      <td>0.001610</td>\n",
       "      <td>-0.001145</td>\n",
       "      <td>1.000000</td>\n",
       "    </tr>\n",
       "  </tbody>\n",
       "</table>\n",
       "</div>"
      ],
      "text/plain": [
       "                 year     month       day  test_result  test_name\n",
       "year         1.000000 -0.500531 -0.005173    -0.003762  -0.001648\n",
       "month       -0.500531  1.000000 -0.000091     0.001730  -0.021112\n",
       "day         -0.005173 -0.000091  1.000000     0.000637   0.001610\n",
       "test_result -0.003762  0.001730  0.000637     1.000000  -0.001145\n",
       "test_name   -0.001648 -0.021112  0.001610    -0.001145   1.000000"
      ]
     },
     "execution_count": 7,
     "metadata": {},
     "output_type": "execute_result"
    }
   ],
   "source": [
    "df.corr(method ='kendall')"
   ]
  },
  {
   "cell_type": "code",
   "execution_count": 8,
   "id": "d920b357",
   "metadata": {},
   "outputs": [
    {
     "name": "stdout",
     "output_type": "stream",
     "text": [
      "              year  month    day  test_result  test_name\n",
      "year         1.000 -0.592 -0.003       -0.003     -0.041\n",
      "month       -0.592  1.000  0.000        0.001     -0.027\n",
      "day         -0.003  0.000  1.000        0.001     -0.008\n",
      "test_result -0.003  0.001  0.001        1.000      0.010\n",
      "test_name   -0.041 -0.027 -0.008        0.010      1.000\n"
     ]
    }
   ],
   "source": [
    "matrix = df.corr().round(3)\n",
    "print(matrix)"
   ]
  },
  {
   "cell_type": "code",
   "execution_count": 9,
   "id": "7ea03c5d",
   "metadata": {},
   "outputs": [
    {
     "data": {
      "image/png": "[encoded data removed]",
      "text/plain": [
       "<Figure size 432x288 with 2 Axes>"
      ]
     },
     "metadata": {
      "needs_background": "light"
     },
     "output_type": "display_data"
    }
   ],
   "source": [
    "# Visualizing a Pandas Correlation Matrix Using Seaborn\n",
    "import pandas as pd\n",
    "import seaborn as sns\n",
    "import matplotlib.pyplot as plt\n",
    "\n",
    "matrix = df.corr().round(3)\n",
    "sns.heatmap(matrix, annot=True)\n",
    "plt.show()"
   ]
  },
  {
   "cell_type": "code",
   "execution_count": 10,
   "id": "ba2e01f1",
   "metadata": {},
   "outputs": [
    {
     "data": {
      "image/png": "[encoded data removed]",
      "text/plain": [
       "<Figure size 432x288 with 2 Axes>"
      ]
     },
     "metadata": {
      "needs_background": "light"
     },
     "output_type": "display_data"
    }
   ],
   "source": [
    "# Visualizing a Pandas Correlation Matrix Using Seaborn\n",
    "import pandas as pd\n",
    "import seaborn as sns\n",
    "import matplotlib.pyplot as plt\n",
    "\n",
    "matrix = df.corr().round(3)\n",
    "sns.heatmap(matrix, annot=True, vmax=1, vmin=-1, center=0, cmap='vlag')\n",
    "plt.show()"
   ]
  },
  {
   "cell_type": "code",
   "execution_count": 4,
   "id": "a71abf25",
   "metadata": {},
   "outputs": [],
   "source": [
    "import random\n",
    "from deap import base, creator, tools"
   ]
  },
  {
   "cell_type": "code",
   "execution_count": 5,
   "id": "6902aa05",
   "metadata": {},
   "outputs": [],
   "source": [
    "# Define problem variables\n",
    "num_nodes = 4\n",
    "attributes = ['age', 'gender', 'diagnosis', 'treatment']"
   ]
  },
  {
   "cell_type": "code",
   "execution_count": 6,
   "id": "76d62843",
   "metadata": {},
   "outputs": [],
   "source": [
    "# Define fitness function\n",
    "def fitness(partition):\n",
    "    # Compute fitness based on objectives\n",
    "    communication_cost = sum(len(set(partition[node])) for node in range(num_nodes))\n",
    "    parallelism = max(len(partition[node]) for node in range(num_nodes))\n",
    "    query_response_time = max(len(partition[node]) / parallelism for node in range(num_nodes))\n",
    "    return communication_cost, query_response_time,\n"
   ]
  },
  {
   "cell_type": "code",
   "execution_count": 7,
   "id": "d0bfe9ff",
   "metadata": {},
   "outputs": [],
   "source": [
    "# Define genetic operators\n",
    "toolbox = base.Toolbox()"
   ]
  },
  {
   "cell_type": "code",
   "execution_count": 8,
   "id": "f2ddaacc",
   "metadata": {},
   "outputs": [],
   "source": [
    "def partition_random():\n",
    "    # Generate a random partition\n",
    "    return [random.choice(range(num_nodes)) for _ in attributes]"
   ]
  },
  {
   "cell_type": "code",
   "execution_count": 9,
   "id": "b338828a",
   "metadata": {},
   "outputs": [],
   "source": [
    "def partition_crossover(partition1, partition2):\n",
    "    # Perform single-point crossover on partitions\n",
    "    point = random.choice(range(len(attributes)))\n",
    "    return partition1[:point] + partition2[point:],"
   ]
  },
  {
   "cell_type": "code",
   "execution_count": 10,
   "id": "7a3b78c1",
   "metadata": {},
   "outputs": [],
   "source": [
    "def partition_mutation(partition):\n",
    "    # Mutate a partition by randomly reassigning an attribute\n",
    "    index = random.choice(range(len(attributes)))\n",
    "    partition[index] = random.choice(range(num_nodes))\n",
    "    return partition,"
   ]
  },
  {
   "cell_type": "code",
   "execution_count": 11,
   "id": "be950cc1",
   "metadata": {},
   "outputs": [],
   "source": [
    "# Register genetic operators\n",
    "creator.create('FitnessMax', base.Fitness, weights=(-1.0, -1.0))\n",
    "creator.create('Individual', list, fitness=creator.FitnessMax)\n",
    "toolbox.register('partition', partition_random)\n",
    "toolbox.register('individual', tools.initIterate, creator.Individual, toolbox.partition)\n",
    "toolbox.register('population', tools.initRepeat, list, toolbox.individual)\n",
    "toolbox.register('evaluate', fitness)\n",
    "toolbox.register('mate', partition_crossover)\n",
    "toolbox.register('mutate', partition_mutation)\n",
    "toolbox.register('select', tools.selNSGA2)"
   ]
  },
  {
   "cell_type": "code",
   "execution_count": 12,
   "id": "acb88ff6",
   "metadata": {},
   "outputs": [],
   "source": [
    "# Define parameters\n",
    "pop_size = 100\n",
    "cx_prob = 0.5\n",
    "mut_prob = 0.1\n",
    "num_gens = 50"
   ]
  },
  {
   "cell_type": "code",
   "execution_count": 13,
   "id": "3799c4fc",
   "metadata": {},
   "outputs": [],
   "source": [
    "# Initialize population\n",
    "pop = toolbox.population(n=pop_size)"
   ]
  },
  {
   "cell_type": "code",
   "execution_count": null,
   "id": "4dbada45",
   "metadata": {},
   "outputs": [],
   "source": []
  }
 ],
 "metadata": {
  "kernelspec": {
   "display_name": "Python 3 (ipykernel)",
   "language": "python",
   "name": "python3"
  },
  "language_info": {
   "codemirror_mode": {
    "name": "ipython",
    "version": 3
   },
   "file_extension": ".py",
   "mimetype": "text/x-python",
   "name": "python",
   "nbconvert_exporter": "python",
   "pygments_lexer": "ipython3",
   "version": "3.10.5"
  }
 },
 "nbformat": 4,
 "nbformat_minor": 5
}
